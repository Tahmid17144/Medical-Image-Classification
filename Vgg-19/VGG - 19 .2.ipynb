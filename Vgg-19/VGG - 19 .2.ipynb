{
 "cells": [
  {
   "cell_type": "code",
   "execution_count": 1,
   "id": "1ea25054-f91b-4663-8fb5-2c91d18b4830",
   "metadata": {},
   "outputs": [],
   "source": [
    "import torch\n",
    "import torchvision\n",
    "import torchvision.transforms as transforms\n",
    "from torchvision import datasets, models\n",
    "import torch.nn as nn\n",
    "import torch.optim as optim\n",
    "from sklearn.metrics import classification_report, confusion_matrix\n",
    "import matplotlib.pyplot as plt"
   ]
  },
  {
   "cell_type": "code",
   "execution_count": 2,
   "id": "e8e570eb-1180-4f23-9e48-ce22826b6144",
   "metadata": {},
   "outputs": [
    {
     "name": "stdout",
     "output_type": "stream",
     "text": [
      "Using device: cpu\n"
     ]
    }
   ],
   "source": [
    "# Check for GPU availability\n",
    "device = torch.device(\"cuda\" if torch.cuda.is_available() else \"cpu\")\n",
    "print(f\"Using device: {device}\")\n"
   ]
  },
  {
   "cell_type": "code",
   "execution_count": 3,
   "id": "78170c95-7704-41d0-9faf-91708f6282d5",
   "metadata": {},
   "outputs": [],
   "source": [
    "# Data paths\n",
    "data_dir = r\"C:\\Users\\TAHMID HOSSAIN\\Desktop\\data\"  # Replace with your dataset path\n"
   ]
  },
  {
   "cell_type": "code",
   "execution_count": 4,
   "id": "6efe5ecd-d05e-43d0-8b2c-8849a58f7685",
   "metadata": {},
   "outputs": [],
   "source": [
    "# Data preprocessing\n",
    "transform = {\n",
    "    \"train\": transforms.Compose([\n",
    "        transforms.Resize((224, 224)),  # Resize to VGG-19 input size\n",
    "        transforms.RandomHorizontalFlip(),  # Data augmentation\n",
    "        transforms.ToTensor(),\n",
    "        transforms.Normalize(\n",
    "            mean=[0.485, 0.456, 0.406],  # ImageNet mean\n",
    "            std=[0.229, 0.224, 0.225]   # ImageNet std\n",
    "        )\n",
    "    ]),\n",
    "    \"val\": transforms.Compose([\n",
    "        transforms.Resize((224, 224)),\n",
    "        transforms.ToTensor(),\n",
    "        transforms.Normalize(\n",
    "            mean=[0.485, 0.456, 0.406],\n",
    "            std=[0.229, 0.224, 0.225]\n",
    "        )\n",
    "    ])\n",
    "}"
   ]
  },
  {
   "cell_type": "code",
   "execution_count": 5,
   "id": "64bc8f94-413b-47fc-b74c-5cadedea4fbd",
   "metadata": {},
   "outputs": [],
   "source": [
    "# Load datasets\n",
    "data = {\n",
    "    \"train\": datasets.ImageFolder(root=f\"{data_dir}/train\", transform=transform[\"train\"]),\n",
    "    \"val\": datasets.ImageFolder(root=f\"{data_dir}/val\", transform=transform[\"val\"])\n",
    "}\n",
    "\n",
    "dataloaders = {\n",
    "    \"train\": torch.utils.data.DataLoader(data[\"train\"], batch_size=64, shuffle=True),\n",
    "    \"val\": torch.utils.data.DataLoader(data[\"val\"], batch_size=64, shuffle=False)\n",
    "}"
   ]
  },
  {
   "cell_type": "code",
   "execution_count": 6,
   "id": "88dee662-0370-4f1a-b8c2-681ace4bbe79",
   "metadata": {},
   "outputs": [
    {
     "name": "stderr",
     "output_type": "stream",
     "text": [
      "C:\\Users\\TAHMID HOSSAIN\\AppData\\Local\\Programs\\Python\\Python312\\Lib\\site-packages\\torchvision\\models\\_utils.py:208: UserWarning: The parameter 'pretrained' is deprecated since 0.13 and may be removed in the future, please use 'weights' instead.\n",
      "  warnings.warn(\n",
      "C:\\Users\\TAHMID HOSSAIN\\AppData\\Local\\Programs\\Python\\Python312\\Lib\\site-packages\\torchvision\\models\\_utils.py:223: UserWarning: Arguments other than a weight enum or `None` for 'weights' are deprecated since 0.13 and may be removed in the future. The current behavior is equivalent to passing `weights=VGG19_Weights.IMAGENET1K_V1`. You can also use `weights=VGG19_Weights.DEFAULT` to get the most up-to-date weights.\n",
      "  warnings.warn(msg)\n"
     ]
    }
   ],
   "source": [
    "# Initialize the VGG-19 model\n",
    "vgg19 = models.vgg19(pretrained=True)\n"
   ]
  },
  {
   "cell_type": "code",
   "execution_count": 7,
   "id": "55c44905-28d0-4d9b-acef-ca8faa8f0846",
   "metadata": {},
   "outputs": [],
   "source": [
    "# Modify the classifier for medical classification (e.g., 2 classes)\n",
    "num_features = vgg19.classifier[6].in_features\n",
    "vgg19.classifier[6] = nn.Linear(num_features, len(data[\"train\"].classes))  # Adjust to your dataset\n",
    "vgg19 = vgg19.to(device)"
   ]
  },
  {
   "cell_type": "code",
   "execution_count": 8,
   "id": "14bc013f-7e34-484f-badd-6c0a18e70571",
   "metadata": {},
   "outputs": [],
   "source": [
    "# Loss and optimizer\n",
    "criterion = nn.CrossEntropyLoss()\n",
    "optimizer = optim.Adam(vgg19.parameters(), lr=0.0001)\n"
   ]
  },
  {
   "cell_type": "code",
   "execution_count": 9,
   "id": "97f4e6fe-3564-400d-8098-a937d48b5af3",
   "metadata": {},
   "outputs": [],
   "source": [
    "# Training loop\n",
    "def train_model(model, dataloaders, criterion, optimizer, num_epochs=20):\n",
    "    for epoch in range(num_epochs):\n",
    "        print(f\"Epoch {epoch+1}/{num_epochs}\")\n",
    "        print(\"-\" * 20)\n",
    "        \n",
    "        for phase in [\"train\", \"val\"]:\n",
    "            if phase == \"train\":\n",
    "                model.train()\n",
    "            else:\n",
    "                model.eval()\n",
    "\n",
    "            running_loss = 0.0\n",
    "            running_corrects = 0\n",
    "\n",
    "            for inputs, labels in dataloaders[phase]:\n",
    "                inputs, labels = inputs.to(device), labels.to(device)\n",
    "\n",
    "                optimizer.zero_grad()\n",
    "\n",
    "                with torch.set_grad_enabled(phase == \"train\"):\n",
    "                    outputs = model(inputs)\n",
    "                    _, preds = torch.max(outputs, 1)\n",
    "                    loss = criterion(outputs, labels)\n",
    "\n",
    "                    if phase == \"train\":\n",
    "                        loss.backward()\n",
    "                        optimizer.step()\n",
    "\n",
    "                running_loss += loss.item() * inputs.size(0)\n",
    "                running_corrects += torch.sum(preds == labels.data)\n",
    "\n",
    "            epoch_loss = running_loss / len(data[phase])\n",
    "            epoch_acc = running_corrects.double() / len(data[phase])\n",
    "\n",
    "            print(f\"{phase} Loss: {epoch_loss:.4f} Acc: {epoch_acc:.4f}\")\n",
    "\n",
    "    return model"
   ]
  },
  {
   "cell_type": "code",
   "execution_count": 10,
   "id": "ffbd9702-a423-4d7f-8eb8-2c8f053634a3",
   "metadata": {},
   "outputs": [
    {
     "name": "stdout",
     "output_type": "stream",
     "text": [
      "Epoch 1/20\n",
      "--------------------\n",
      "train Loss: 0.3833 Acc: 0.8561\n",
      "val Loss: 0.2306 Acc: 0.9092\n",
      "Epoch 2/20\n",
      "--------------------\n",
      "train Loss: 0.1207 Acc: 0.9580\n",
      "val Loss: 0.1404 Acc: 0.9420\n",
      "Epoch 3/20\n",
      "--------------------\n",
      "train Loss: 0.0760 Acc: 0.9744\n",
      "val Loss: 0.0793 Acc: 0.9771\n",
      "Epoch 4/20\n",
      "--------------------\n",
      "train Loss: 0.0606 Acc: 0.9818\n",
      "val Loss: 0.0517 Acc: 0.9840\n",
      "Epoch 5/20\n",
      "--------------------\n",
      "train Loss: 0.0449 Acc: 0.9870\n",
      "val Loss: 0.0437 Acc: 0.9840\n",
      "Epoch 6/20\n",
      "--------------------\n",
      "train Loss: 0.0343 Acc: 0.9890\n",
      "val Loss: 0.0403 Acc: 0.9863\n",
      "Epoch 7/20\n",
      "--------------------\n",
      "train Loss: 0.0616 Acc: 0.9818\n",
      "val Loss: 0.0507 Acc: 0.9855\n",
      "Epoch 8/20\n",
      "--------------------\n",
      "train Loss: 0.0294 Acc: 0.9912\n",
      "val Loss: 0.0777 Acc: 0.9741\n",
      "Epoch 9/20\n",
      "--------------------\n",
      "train Loss: 0.0214 Acc: 0.9930\n",
      "val Loss: 0.0542 Acc: 0.9886\n",
      "Epoch 10/20\n",
      "--------------------\n",
      "train Loss: 0.0239 Acc: 0.9921\n",
      "val Loss: 0.0232 Acc: 0.9893\n",
      "Epoch 11/20\n",
      "--------------------\n",
      "train Loss: 0.0081 Acc: 0.9974\n",
      "val Loss: 0.0215 Acc: 0.9947\n",
      "Epoch 12/20\n",
      "--------------------\n",
      "train Loss: 0.0179 Acc: 0.9953\n",
      "val Loss: 0.0502 Acc: 0.9878\n",
      "Epoch 13/20\n",
      "--------------------\n",
      "train Loss: 0.0144 Acc: 0.9961\n",
      "val Loss: 0.0414 Acc: 0.9916\n",
      "Epoch 14/20\n",
      "--------------------\n",
      "train Loss: 0.0575 Acc: 0.9832\n",
      "val Loss: 0.2065 Acc: 0.9367\n",
      "Epoch 15/20\n",
      "--------------------\n",
      "train Loss: 0.0250 Acc: 0.9909\n",
      "val Loss: 0.0485 Acc: 0.9886\n",
      "Epoch 16/20\n",
      "--------------------\n",
      "train Loss: 0.0147 Acc: 0.9958\n",
      "val Loss: 0.0321 Acc: 0.9908\n",
      "Epoch 17/20\n",
      "--------------------\n",
      "train Loss: 0.0046 Acc: 0.9988\n",
      "val Loss: 0.0671 Acc: 0.9886\n",
      "Epoch 18/20\n",
      "--------------------\n",
      "train Loss: 0.0177 Acc: 0.9946\n",
      "val Loss: 0.0688 Acc: 0.9847\n",
      "Epoch 19/20\n",
      "--------------------\n",
      "train Loss: 0.0163 Acc: 0.9958\n",
      "val Loss: 0.0211 Acc: 0.9939\n",
      "Epoch 20/20\n",
      "--------------------\n",
      "train Loss: 0.0237 Acc: 0.9937\n",
      "val Loss: 0.0661 Acc: 0.9863\n"
     ]
    }
   ],
   "source": [
    "\n",
    "# Train the model\n",
    "model = train_model(vgg19, dataloaders, criterion, optimizer, num_epochs=20)\n"
   ]
  },
  {
   "cell_type": "code",
   "execution_count": 4,
   "id": "dc095750-299e-4454-b695-dc122dec2c31",
   "metadata": {},
   "outputs": [
    {
     "name": "stdout",
     "output_type": "stream",
     "text": [
      "Model saved!\n"
     ]
    }
   ],
   "source": [
    "# Save the trained model\n",
    "torch.save(model.state_dict(), \"vgg19_medical.pth\")\n",
    "print(\"Model saved!\")\n"
   ]
  },
  {
   "cell_type": "code",
   "execution_count": 32,
   "id": "2cd920bd-16bd-44a2-a30c-960f442a7691",
   "metadata": {},
   "outputs": [
    {
     "name": "stdout",
     "output_type": "stream",
     "text": [
      "Model loaded successfully!\n"
     ]
    },
    {
     "name": "stderr",
     "output_type": "stream",
     "text": [
      "C:\\Users\\TAHMID HOSSAIN\\AppData\\Local\\Temp\\ipykernel_7832\\988190324.py:11: FutureWarning: You are using `torch.load` with `weights_only=False` (the current default value), which uses the default pickle module implicitly. It is possible to construct malicious pickle data which will execute arbitrary code during unpickling (See https://github.com/pytorch/pytorch/blob/main/SECURITY.md#untrusted-models for more details). In a future release, the default value for `weights_only` will be flipped to `True`. This limits the functions that could be executed during unpickling. Arbitrary objects will no longer be allowed to be loaded via this mode unless they are explicitly allowlisted by the user via `torch.serialization.add_safe_globals`. We recommend you start setting `weights_only=True` for any use case where you don't have full control of the loaded file. Please open an issue on GitHub for any issues related to this experimental feature.\n",
      "  model.load_state_dict(torch.load(\"vgg19_medical.pth\"), strict=False)\n"
     ]
    }
   ],
   "source": [
    "import torch\n",
    "import torchvision.models as models\n",
    "import torch.nn as nn\n",
    "\n",
    "# Reinitialize the model (with the same architecture as before)\n",
    "model = models.vgg19(pretrained=False)  # Don't load ImageNet weights here\n",
    "num_features = model.classifier[6].in_features  # Get the number of input features to the final layer\n",
    "model.classifier[6] = nn.Linear(num_features, 2)  # Modify the classifier layer for your dataset (e.g., 2 classes)\n",
    "\n",
    "# Load the saved state_dict with strict=False\n",
    "model.load_state_dict(torch.load(\"vgg19_medical.pth\"), strict=False)\n",
    "\n",
    "# Move the model to the appropriate device (CPU or GPU)\n",
    "device = torch.device(\"cuda\" if torch.cuda.is_available() else \"cpu\")\n",
    "model = model.to(device)\n",
    "\n",
    "print(\"Model loaded successfully!\")\n"
   ]
  },
  {
   "cell_type": "code",
   "execution_count": null,
   "id": "bd487ad7-11bc-4f03-98fa-89bfee28a8fd",
   "metadata": {},
   "outputs": [],
   "source": []
  }
 ],
 "metadata": {
  "kernelspec": {
   "display_name": "Python 3 (ipykernel)",
   "language": "python",
   "name": "python3"
  },
  "language_info": {
   "codemirror_mode": {
    "name": "ipython",
    "version": 3
   },
   "file_extension": ".py",
   "mimetype": "text/x-python",
   "name": "python",
   "nbconvert_exporter": "python",
   "pygments_lexer": "ipython3",
   "version": "3.12.4"
  }
 },
 "nbformat": 4,
 "nbformat_minor": 5
}
